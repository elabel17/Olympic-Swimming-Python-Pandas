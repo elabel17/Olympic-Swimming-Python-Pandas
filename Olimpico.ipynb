{
 "cells": [
  {
   "cell_type": "code",
   "execution_count": 9,
   "id": "6a19eb4b",
   "metadata": {},
   "outputs": [],
   "source": [
    "import pandas as pd"
   ]
  },
  {
   "cell_type": "code",
   "execution_count": 10,
   "id": "132b4677",
   "metadata": {},
   "outputs": [],
   "source": [
    "df=pd.read_csv(\"C:/Users/mickel.cruz/OneDrive - Magna Motors/Documentos/ProyectosPandas/DF/Olympic_Swimming_Results_1912to2020.csv\")"
   ]
  },
  {
   "cell_type": "code",
   "execution_count": 11,
   "id": "1057a6e4",
   "metadata": {},
   "outputs": [
    {
     "name": "stdout",
     "output_type": "stream",
     "text": [
      "<class 'pandas.core.frame.DataFrame'>\n",
      "RangeIndex: 4359 entries, 0 to 4358\n",
      "Data columns (total 10 columns):\n",
      " #   Column                Non-Null Count  Dtype \n",
      "---  ------                --------------  ----- \n",
      " 0   Location              4359 non-null   object\n",
      " 1   Year                  4359 non-null   int64 \n",
      " 2   Distance (in meters)  4359 non-null   object\n",
      " 3   Stroke                4359 non-null   object\n",
      " 4   Relay?                4359 non-null   int64 \n",
      " 5   Gender                4359 non-null   object\n",
      " 6   Team                  4359 non-null   object\n",
      " 7   Athlete               4345 non-null   object\n",
      " 8   Results               4331 non-null   object\n",
      " 9   Rank                  4359 non-null   int64 \n",
      "dtypes: int64(3), object(7)\n",
      "memory usage: 340.7+ KB\n"
     ]
    }
   ],
   "source": [
    "df.info()"
   ]
  },
  {
   "cell_type": "code",
   "execution_count": 12,
   "id": "0d38d007",
   "metadata": {},
   "outputs": [
    {
     "data": {
      "application/vnd.microsoft.datawrangler.viewer.v0+json": {
       "columns": [
        {
         "name": "index",
         "rawType": "int64",
         "type": "integer"
        },
        {
         "name": "Location",
         "rawType": "object",
         "type": "string"
        },
        {
         "name": "Year",
         "rawType": "int64",
         "type": "integer"
        },
        {
         "name": "Distance (in meters)",
         "rawType": "object",
         "type": "string"
        },
        {
         "name": "Stroke",
         "rawType": "object",
         "type": "string"
        },
        {
         "name": "Relay?",
         "rawType": "int64",
         "type": "integer"
        },
        {
         "name": "Gender",
         "rawType": "object",
         "type": "string"
        },
        {
         "name": "Team",
         "rawType": "object",
         "type": "string"
        },
        {
         "name": "Athlete",
         "rawType": "object",
         "type": "string"
        },
        {
         "name": "Results",
         "rawType": "object",
         "type": "string"
        },
        {
         "name": "Rank",
         "rawType": "int64",
         "type": "integer"
        }
       ],
       "conversionMethod": "pd.DataFrame",
       "ref": "044cda49-b7d2-4e45-9e31-b7110700ac19",
       "rows": [
        [
         "0",
         "Tokyo",
         "2020",
         "100m",
         "Backstroke",
         "0",
         "Men",
         "ROC",
         "Evgeny Rylov",
         "51.98",
         "1"
        ],
        [
         "1",
         "Tokyo",
         "2020",
         "100m",
         "Backstroke",
         "0",
         "Men",
         "ROC",
         "Kliment Kolesnikov",
         "52",
         "2"
        ],
        [
         "2",
         "Tokyo",
         "2020",
         "100m",
         "Backstroke",
         "0",
         "Men",
         "USA",
         "Ryan Murphy",
         "52.19",
         "3"
        ],
        [
         "3",
         "Tokyo",
         "2020",
         "100m",
         "Backstroke",
         "0",
         "Men",
         "ITA",
         "Thomas Ceccon",
         "52.3",
         "4"
        ],
        [
         "4",
         "Tokyo",
         "2020",
         "100m",
         "Backstroke",
         "0",
         "Men",
         "CHN",
         "Jiayu Xu",
         "52.51",
         "4"
        ]
       ],
       "shape": {
        "columns": 10,
        "rows": 5
       }
      },
      "text/html": [
       "<div>\n",
       "<style scoped>\n",
       "    .dataframe tbody tr th:only-of-type {\n",
       "        vertical-align: middle;\n",
       "    }\n",
       "\n",
       "    .dataframe tbody tr th {\n",
       "        vertical-align: top;\n",
       "    }\n",
       "\n",
       "    .dataframe thead th {\n",
       "        text-align: right;\n",
       "    }\n",
       "</style>\n",
       "<table border=\"1\" class=\"dataframe\">\n",
       "  <thead>\n",
       "    <tr style=\"text-align: right;\">\n",
       "      <th></th>\n",
       "      <th>Location</th>\n",
       "      <th>Year</th>\n",
       "      <th>Distance (in meters)</th>\n",
       "      <th>Stroke</th>\n",
       "      <th>Relay?</th>\n",
       "      <th>Gender</th>\n",
       "      <th>Team</th>\n",
       "      <th>Athlete</th>\n",
       "      <th>Results</th>\n",
       "      <th>Rank</th>\n",
       "    </tr>\n",
       "  </thead>\n",
       "  <tbody>\n",
       "    <tr>\n",
       "      <th>0</th>\n",
       "      <td>Tokyo</td>\n",
       "      <td>2020</td>\n",
       "      <td>100m</td>\n",
       "      <td>Backstroke</td>\n",
       "      <td>0</td>\n",
       "      <td>Men</td>\n",
       "      <td>ROC</td>\n",
       "      <td>Evgeny Rylov</td>\n",
       "      <td>51.98</td>\n",
       "      <td>1</td>\n",
       "    </tr>\n",
       "    <tr>\n",
       "      <th>1</th>\n",
       "      <td>Tokyo</td>\n",
       "      <td>2020</td>\n",
       "      <td>100m</td>\n",
       "      <td>Backstroke</td>\n",
       "      <td>0</td>\n",
       "      <td>Men</td>\n",
       "      <td>ROC</td>\n",
       "      <td>Kliment Kolesnikov</td>\n",
       "      <td>52</td>\n",
       "      <td>2</td>\n",
       "    </tr>\n",
       "    <tr>\n",
       "      <th>2</th>\n",
       "      <td>Tokyo</td>\n",
       "      <td>2020</td>\n",
       "      <td>100m</td>\n",
       "      <td>Backstroke</td>\n",
       "      <td>0</td>\n",
       "      <td>Men</td>\n",
       "      <td>USA</td>\n",
       "      <td>Ryan Murphy</td>\n",
       "      <td>52.19</td>\n",
       "      <td>3</td>\n",
       "    </tr>\n",
       "    <tr>\n",
       "      <th>3</th>\n",
       "      <td>Tokyo</td>\n",
       "      <td>2020</td>\n",
       "      <td>100m</td>\n",
       "      <td>Backstroke</td>\n",
       "      <td>0</td>\n",
       "      <td>Men</td>\n",
       "      <td>ITA</td>\n",
       "      <td>Thomas Ceccon</td>\n",
       "      <td>52.3</td>\n",
       "      <td>4</td>\n",
       "    </tr>\n",
       "    <tr>\n",
       "      <th>4</th>\n",
       "      <td>Tokyo</td>\n",
       "      <td>2020</td>\n",
       "      <td>100m</td>\n",
       "      <td>Backstroke</td>\n",
       "      <td>0</td>\n",
       "      <td>Men</td>\n",
       "      <td>CHN</td>\n",
       "      <td>Jiayu Xu</td>\n",
       "      <td>52.51</td>\n",
       "      <td>4</td>\n",
       "    </tr>\n",
       "  </tbody>\n",
       "</table>\n",
       "</div>"
      ],
      "text/plain": [
       "  Location  Year Distance (in meters)      Stroke  Relay? Gender Team  \\\n",
       "0    Tokyo  2020                 100m  Backstroke       0    Men  ROC   \n",
       "1    Tokyo  2020                 100m  Backstroke       0    Men  ROC   \n",
       "2    Tokyo  2020                 100m  Backstroke       0    Men  USA   \n",
       "3    Tokyo  2020                 100m  Backstroke       0    Men  ITA   \n",
       "4    Tokyo  2020                 100m  Backstroke       0    Men  CHN   \n",
       "\n",
       "              Athlete Results  Rank  \n",
       "0        Evgeny Rylov   51.98     1  \n",
       "1  Kliment Kolesnikov      52     2  \n",
       "2         Ryan Murphy   52.19     3  \n",
       "3       Thomas Ceccon    52.3     4  \n",
       "4            Jiayu Xu   52.51     4  "
      ]
     },
     "execution_count": 12,
     "metadata": {},
     "output_type": "execute_result"
    }
   ],
   "source": [
    "df.head(5)"
   ]
  },
  {
   "cell_type": "code",
   "execution_count": 28,
   "id": "141ea472",
   "metadata": {},
   "outputs": [
    {
     "data": {
      "text/plain": [
       "array(['100m', '1500m', '200m', '400m', '50m', '800m', '4x100', '4x200'],\n",
       "      dtype=object)"
      ]
     },
     "execution_count": 28,
     "metadata": {},
     "output_type": "execute_result"
    }
   ],
   "source": [
    "df[\"Gender\"].unique()\n",
    "df[\"Year\"].unique()\n",
    "df[\"Relay?\"].unique()\n",
    "df[\"Stroke\"].unique()\n",
    "df[\"Distance (in meters)\"].unique()"
   ]
  },
  {
   "cell_type": "code",
   "execution_count": 14,
   "id": "65222376",
   "metadata": {},
   "outputs": [],
   "source": [
    "df[\"Results\"]=df[\"Results\"].fillna(0)"
   ]
  },
  {
   "cell_type": "code",
   "execution_count": 15,
   "id": "995376d5",
   "metadata": {},
   "outputs": [],
   "source": [
    "df[\"Athlete\"]=df[\"Athlete\"].fillna(\"Unknown\")   "
   ]
  },
  {
   "cell_type": "code",
   "execution_count": 16,
   "id": "d81b1022",
   "metadata": {},
   "outputs": [
    {
     "data": {
      "text/plain": [
       "array(['ROC', 'USA', 'ITA', 'CHN', 'ESP', 'AUS', 'ROU', 'GBR', 'NED',\n",
       "       'BLR', 'HUN', 'SUI', 'POL', 'GUA', 'BUL', 'FRA', 'KOR', 'UKR',\n",
       "       'GER', 'AUT', 'JPN', 'FIN', 'SWE', 'RSA', 'BRA', 'LTU', 'NZL',\n",
       "       'TUN', 'GRE', 'CAN', 'ISR', 'IRL', 'HKG', 'BEL', 'CZE', 'DEN',\n",
       "       'RUS', 'KAZ', 'ISL', 'JAM', 'SGP', 'NOR', 'ZIM', 'NZ', 'NL', 'IR',\n",
       "       'NLD', 'SRB', 'CUB', 'ZAF', 'TTO', 'BAH', 'VEN', 'KEN', 'PNG',\n",
       "       'SLO', 'CRO', 'SVK', 'ALG', 'ARG', 'CRC', 'PUR', 'MDA', 'BAR',\n",
       "       'EUN', 'SUR', 'Unified Team', 'TCH', 'URS', 'GDR', 'FRG', 'YUG',\n",
       "       'SUN', 'BGR', 'COL', 'POR', 'CHE', 'MEX', 'ECU', 'PER', 'URU',\n",
       "       'EGY', 'PHI', 'BER', 'IND', 'LUX', 'ANZ'], dtype=object)"
      ]
     },
     "execution_count": 16,
     "metadata": {},
     "output_type": "execute_result"
    }
   ],
   "source": [
    "df[\"Team\"]=df[\"Team\"].str.strip(\" \")\n",
    "df[\"Team\"].unique()"
   ]
  },
  {
   "cell_type": "code",
   "execution_count": 21,
   "id": "3c3e0f92",
   "metadata": {},
   "outputs": [
    {
     "data": {
      "text/plain": [
       "Results\n",
       "Did not start      43\n",
       "Did not finish     35\n",
       "0                  28\n",
       "Disqualified       23\n",
       "00:01:08.100000     6\n",
       "                   ..\n",
       "00:03:36.610000     1\n",
       "00:03:39.830000     1\n",
       "00:03:40.300000     1\n",
       "00:03:40.310000     1\n",
       "00:10:37.000000     1\n",
       "Name: count, Length: 3636, dtype: int64"
      ]
     },
     "execution_count": 21,
     "metadata": {},
     "output_type": "execute_result"
    }
   ],
   "source": [
    "df[\"Results\"].value_counts()"
   ]
  },
  {
   "cell_type": "code",
   "execution_count": 113,
   "id": "6939ac72",
   "metadata": {},
   "outputs": [],
   "source": [
    "def Separa_Results(x):\n",
    "    if pd.isna(x):\n",
    "        return \"NA\"\n",
    "    elif \"Did not start\" == x:\n",
    "        return \"Did not start\"\n",
    "    elif \"Disqualified\" == x:\n",
    "        return \"Disqualified\"\n",
    "    elif \"Did not finish\" == x:\n",
    "        return \"Did not finish\"\n",
    "    else:\n",
    "        try:\n",
    "            # Intentar convertir a número\n",
    "            num = float(x)\n",
    "            if 0 <= num <= 100:  # Valores entre 0 y 100 son puntuaciones\n",
    "                return \"Punctuation\"\n",
    "            elif num > 100:  # Valores mayores a 100 son tiempo en segundos\n",
    "                return \"Time sec\"\n",
    "        except:\n",
    "            # Si no es un número, verificar si contiene \":\"\n",
    "            if \":\" in str(x):\n",
    "                return \"Timed time\"\n",
    "            else:\n",
    "                return \"Other\"\n",
    "\n",
    "# Aplicar la función a la columna \"Results\"\n",
    "df[\"Results_Text\"] = df[\"Results\"].apply(Separa_Results)"
   ]
  },
  {
   "cell_type": "code",
   "execution_count": 114,
   "id": "f94e088c",
   "metadata": {},
   "outputs": [],
   "source": [
    "def Puntuacion(x):\n",
    "    try:\n",
    "        if \":\" in str(x):\n",
    "            return 0  # si tiene dos puntos, es tiempo => lo marcamos 0\n",
    "        else:\n",
    "            return float(x)\n",
    "    except:\n",
    "        return 0\n",
    "\n",
    "df[\"Punctuation\"] = df[\"Results\"].apply(Puntuacion)"
   ]
  },
  {
   "cell_type": "code",
   "execution_count": 115,
   "id": "7e0092dd",
   "metadata": {},
   "outputs": [
    {
     "data": {
      "text/plain": [
       "array(['Punctuation', 'Timed time', 'Disqualified', 'Did not start',\n",
       "       'Did not finish'], dtype=object)"
      ]
     },
     "execution_count": 115,
     "metadata": {},
     "output_type": "execute_result"
    }
   ],
   "source": [
    "df[\"Results_Text\"].unique()"
   ]
  },
  {
   "cell_type": "code",
   "execution_count": 121,
   "id": "8881f43f",
   "metadata": {},
   "outputs": [
    {
     "name": "stdout",
     "output_type": "stream",
     "text": [
      "<class 'pandas.core.frame.DataFrame'>\n",
      "RangeIndex: 4359 entries, 0 to 4358\n",
      "Data columns (total 12 columns):\n",
      " #   Column                Non-Null Count  Dtype  \n",
      "---  ------                --------------  -----  \n",
      " 0   Location              4359 non-null   object \n",
      " 1   Year                  4359 non-null   int64  \n",
      " 2   Distance (in meters)  4359 non-null   object \n",
      " 3   Stroke                4359 non-null   object \n",
      " 4   Relay?                4359 non-null   int64  \n",
      " 5   Gender                4359 non-null   object \n",
      " 6   Team                  4359 non-null   object \n",
      " 7   Athlete               4359 non-null   object \n",
      " 8   Results               4359 non-null   object \n",
      " 9   Rank                  4359 non-null   int64  \n",
      " 10  Results_Text          4359 non-null   object \n",
      " 11  Punctuation           4359 non-null   float64\n",
      "dtypes: float64(1), int64(3), object(8)\n",
      "memory usage: 408.8+ KB\n"
     ]
    }
   ],
   "source": [
    "df.info()"
   ]
  },
  {
   "cell_type": "code",
   "execution_count": 123,
   "id": "fd244160",
   "metadata": {},
   "outputs": [],
   "source": [
    "def grupos(x):\n",
    "    if \"4x100\"==x:\n",
    "        return \"Group\"\n",
    "    elif \"4x200\"==x:\n",
    "        return \"Group\"\n",
    "    else:\n",
    "        return \"Individual\"\n",
    "\n",
    "df[\"Group\"]= df[\"Distance (in meters)\"].apply(grupos)"
   ]
  },
  {
   "cell_type": "code",
   "execution_count": null,
   "id": "02f237f8",
   "metadata": {},
   "outputs": [],
   "source": [
    "def tiempos(x):\n",
    "    if isinstance(x, str) and \":\" in x:  # Verificar si es una cadena y contiene \":\"\n",
    "        return x\n",
    "    else:\n",
    "        return 0\n",
    "\n",
    "df[\"Duration\"] = df[\"Results\"].apply(tiempos)\n",
    "df[\"Duration\"]= pd.to_timedelta(df[\"Duration\"], errors=\"coerce\")\n",
    "df[\"Duration\"] = df[\"Duration\"].apply(\n",
    "    lambda x: f\"{x.components.hours:02}:{x.components.minutes:02}:{x.components.seconds:02}\"\n",
    "    if pd.notna(x) else \"00:00:00\"\n",
    ")\n",
    "\n"
   ]
  },
  {
   "cell_type": "code",
   "execution_count": 144,
   "id": "fcccd365",
   "metadata": {},
   "outputs": [
    {
     "data": {
      "text/plain": [
       "0       00:00:00:000\n",
       "1       00:00:00:000\n",
       "2       00:00:00:000\n",
       "3       00:00:00:000\n",
       "4       00:00:00:000\n",
       "            ...     \n",
       "4354    00:00:00:000\n",
       "4355    00:10:11:200\n",
       "4356    00:10:20:200\n",
       "4357    00:10:28:600\n",
       "4358    00:10:37:000\n",
       "Name: Group_Time, Length: 4359, dtype: object"
      ]
     },
     "execution_count": 144,
     "metadata": {},
     "output_type": "execute_result"
    }
   ],
   "source": [
    "df[\"Group_Time\"]"
   ]
  },
  {
   "cell_type": "code",
   "execution_count": 165,
   "id": "f375d7be",
   "metadata": {},
   "outputs": [],
   "source": [
    "df.to_excel(\"C:/Users/mickel.cruz/OneDrive - Magna Motors/Documentos/ProyectosPandas/DF_Limpio/Olimpico1.xlsx\", index=False)"
   ]
  },
  {
   "cell_type": "code",
   "execution_count": 166,
   "id": "33b46eb0",
   "metadata": {},
   "outputs": [
    {
     "name": "stdout",
     "output_type": "stream",
     "text": [
      "<class 'pandas.core.frame.DataFrame'>\n",
      "RangeIndex: 4359 entries, 0 to 4358\n",
      "Data columns (total 14 columns):\n",
      " #   Column                Non-Null Count  Dtype  \n",
      "---  ------                --------------  -----  \n",
      " 0   Location              4359 non-null   object \n",
      " 1   Year                  4359 non-null   int64  \n",
      " 2   Distance (in meters)  4359 non-null   object \n",
      " 3   Stroke                4359 non-null   object \n",
      " 4   Relay?                4359 non-null   int64  \n",
      " 5   Gender                4359 non-null   object \n",
      " 6   Team                  4359 non-null   object \n",
      " 7   Athlete               4359 non-null   object \n",
      " 8   Results               4359 non-null   object \n",
      " 9   Rank                  4359 non-null   int64  \n",
      " 10  Results_Text          4359 non-null   object \n",
      " 11  Punctuation           4359 non-null   float64\n",
      " 12  Group                 4359 non-null   object \n",
      " 13  Duration              4359 non-null   object \n",
      "dtypes: float64(1), int64(3), object(10)\n",
      "memory usage: 476.9+ KB\n"
     ]
    }
   ],
   "source": [
    "df.info()"
   ]
  },
  {
   "cell_type": "code",
   "execution_count": 152,
   "id": "e5fcfccc",
   "metadata": {},
   "outputs": [
    {
     "data": {
      "application/vnd.microsoft.datawrangler.viewer.v0+json": {
       "columns": [
        {
         "name": "index",
         "rawType": "int64",
         "type": "integer"
        },
        {
         "name": "Location",
         "rawType": "object",
         "type": "string"
        },
        {
         "name": "Year",
         "rawType": "int64",
         "type": "integer"
        },
        {
         "name": "Distance (in meters)",
         "rawType": "object",
         "type": "string"
        },
        {
         "name": "Stroke",
         "rawType": "object",
         "type": "string"
        },
        {
         "name": "Relay?",
         "rawType": "int64",
         "type": "integer"
        },
        {
         "name": "Gender",
         "rawType": "object",
         "type": "string"
        },
        {
         "name": "Team",
         "rawType": "object",
         "type": "string"
        },
        {
         "name": "Athlete",
         "rawType": "object",
         "type": "string"
        },
        {
         "name": "Results",
         "rawType": "object",
         "type": "string"
        },
        {
         "name": "Rank",
         "rawType": "int64",
         "type": "integer"
        },
        {
         "name": "Results_Text",
         "rawType": "object",
         "type": "string"
        },
        {
         "name": "Punctuation",
         "rawType": "float64",
         "type": "float"
        },
        {
         "name": "Group",
         "rawType": "object",
         "type": "string"
        },
        {
         "name": "Group_Time",
         "rawType": "object",
         "type": "string"
        }
       ],
       "conversionMethod": "pd.DataFrame",
       "ref": "5e1f3cc4-20a5-4ba1-a928-5ed64533428c",
       "rows": [
        [
         "0",
         "Tokyo",
         "2020",
         "100m",
         "Backstroke",
         "0",
         "Men",
         "ROC",
         "Evgeny Rylov",
         "51.98",
         "1",
         "Punctuation",
         "51.98",
         "Individual",
         "00:00:00:000"
        ],
        [
         "1",
         "Tokyo",
         "2020",
         "100m",
         "Backstroke",
         "0",
         "Men",
         "ROC",
         "Kliment Kolesnikov",
         "52",
         "2",
         "Punctuation",
         "52.0",
         "Individual",
         "00:00:00:000"
        ],
        [
         "2",
         "Tokyo",
         "2020",
         "100m",
         "Backstroke",
         "0",
         "Men",
         "USA",
         "Ryan Murphy",
         "52.19",
         "3",
         "Punctuation",
         "52.19",
         "Individual",
         "00:00:00:000"
        ],
        [
         "3",
         "Tokyo",
         "2020",
         "100m",
         "Backstroke",
         "0",
         "Men",
         "ITA",
         "Thomas Ceccon",
         "52.3",
         "4",
         "Punctuation",
         "52.3",
         "Individual",
         "00:00:00:000"
        ],
        [
         "4",
         "Tokyo",
         "2020",
         "100m",
         "Backstroke",
         "0",
         "Men",
         "CHN",
         "Jiayu Xu",
         "52.51",
         "4",
         "Punctuation",
         "52.51",
         "Individual",
         "00:00:00:000"
        ]
       ],
       "shape": {
        "columns": 14,
        "rows": 5
       }
      },
      "text/html": [
       "<div>\n",
       "<style scoped>\n",
       "    .dataframe tbody tr th:only-of-type {\n",
       "        vertical-align: middle;\n",
       "    }\n",
       "\n",
       "    .dataframe tbody tr th {\n",
       "        vertical-align: top;\n",
       "    }\n",
       "\n",
       "    .dataframe thead th {\n",
       "        text-align: right;\n",
       "    }\n",
       "</style>\n",
       "<table border=\"1\" class=\"dataframe\">\n",
       "  <thead>\n",
       "    <tr style=\"text-align: right;\">\n",
       "      <th></th>\n",
       "      <th>Location</th>\n",
       "      <th>Year</th>\n",
       "      <th>Distance (in meters)</th>\n",
       "      <th>Stroke</th>\n",
       "      <th>Relay?</th>\n",
       "      <th>Gender</th>\n",
       "      <th>Team</th>\n",
       "      <th>Athlete</th>\n",
       "      <th>Results</th>\n",
       "      <th>Rank</th>\n",
       "      <th>Results_Text</th>\n",
       "      <th>Punctuation</th>\n",
       "      <th>Group</th>\n",
       "      <th>Group_Time</th>\n",
       "    </tr>\n",
       "  </thead>\n",
       "  <tbody>\n",
       "    <tr>\n",
       "      <th>0</th>\n",
       "      <td>Tokyo</td>\n",
       "      <td>2020</td>\n",
       "      <td>100m</td>\n",
       "      <td>Backstroke</td>\n",
       "      <td>0</td>\n",
       "      <td>Men</td>\n",
       "      <td>ROC</td>\n",
       "      <td>Evgeny Rylov</td>\n",
       "      <td>51.98</td>\n",
       "      <td>1</td>\n",
       "      <td>Punctuation</td>\n",
       "      <td>51.98</td>\n",
       "      <td>Individual</td>\n",
       "      <td>00:00:00:000</td>\n",
       "    </tr>\n",
       "    <tr>\n",
       "      <th>1</th>\n",
       "      <td>Tokyo</td>\n",
       "      <td>2020</td>\n",
       "      <td>100m</td>\n",
       "      <td>Backstroke</td>\n",
       "      <td>0</td>\n",
       "      <td>Men</td>\n",
       "      <td>ROC</td>\n",
       "      <td>Kliment Kolesnikov</td>\n",
       "      <td>52</td>\n",
       "      <td>2</td>\n",
       "      <td>Punctuation</td>\n",
       "      <td>52.00</td>\n",
       "      <td>Individual</td>\n",
       "      <td>00:00:00:000</td>\n",
       "    </tr>\n",
       "    <tr>\n",
       "      <th>2</th>\n",
       "      <td>Tokyo</td>\n",
       "      <td>2020</td>\n",
       "      <td>100m</td>\n",
       "      <td>Backstroke</td>\n",
       "      <td>0</td>\n",
       "      <td>Men</td>\n",
       "      <td>USA</td>\n",
       "      <td>Ryan Murphy</td>\n",
       "      <td>52.19</td>\n",
       "      <td>3</td>\n",
       "      <td>Punctuation</td>\n",
       "      <td>52.19</td>\n",
       "      <td>Individual</td>\n",
       "      <td>00:00:00:000</td>\n",
       "    </tr>\n",
       "    <tr>\n",
       "      <th>3</th>\n",
       "      <td>Tokyo</td>\n",
       "      <td>2020</td>\n",
       "      <td>100m</td>\n",
       "      <td>Backstroke</td>\n",
       "      <td>0</td>\n",
       "      <td>Men</td>\n",
       "      <td>ITA</td>\n",
       "      <td>Thomas Ceccon</td>\n",
       "      <td>52.3</td>\n",
       "      <td>4</td>\n",
       "      <td>Punctuation</td>\n",
       "      <td>52.30</td>\n",
       "      <td>Individual</td>\n",
       "      <td>00:00:00:000</td>\n",
       "    </tr>\n",
       "    <tr>\n",
       "      <th>4</th>\n",
       "      <td>Tokyo</td>\n",
       "      <td>2020</td>\n",
       "      <td>100m</td>\n",
       "      <td>Backstroke</td>\n",
       "      <td>0</td>\n",
       "      <td>Men</td>\n",
       "      <td>CHN</td>\n",
       "      <td>Jiayu Xu</td>\n",
       "      <td>52.51</td>\n",
       "      <td>4</td>\n",
       "      <td>Punctuation</td>\n",
       "      <td>52.51</td>\n",
       "      <td>Individual</td>\n",
       "      <td>00:00:00:000</td>\n",
       "    </tr>\n",
       "  </tbody>\n",
       "</table>\n",
       "</div>"
      ],
      "text/plain": [
       "  Location  Year Distance (in meters)      Stroke  Relay? Gender Team  \\\n",
       "0    Tokyo  2020                 100m  Backstroke       0    Men  ROC   \n",
       "1    Tokyo  2020                 100m  Backstroke       0    Men  ROC   \n",
       "2    Tokyo  2020                 100m  Backstroke       0    Men  USA   \n",
       "3    Tokyo  2020                 100m  Backstroke       0    Men  ITA   \n",
       "4    Tokyo  2020                 100m  Backstroke       0    Men  CHN   \n",
       "\n",
       "              Athlete Results  Rank Results_Text  Punctuation       Group  \\\n",
       "0        Evgeny Rylov   51.98     1  Punctuation        51.98  Individual   \n",
       "1  Kliment Kolesnikov      52     2  Punctuation        52.00  Individual   \n",
       "2         Ryan Murphy   52.19     3  Punctuation        52.19  Individual   \n",
       "3       Thomas Ceccon    52.3     4  Punctuation        52.30  Individual   \n",
       "4            Jiayu Xu   52.51     4  Punctuation        52.51  Individual   \n",
       "\n",
       "     Group_Time  \n",
       "0  00:00:00:000  \n",
       "1  00:00:00:000  \n",
       "2  00:00:00:000  \n",
       "3  00:00:00:000  \n",
       "4  00:00:00:000  "
      ]
     },
     "execution_count": 152,
     "metadata": {},
     "output_type": "execute_result"
    }
   ],
   "source": [
    "df.head(5)"
   ]
  },
  {
   "cell_type": "code",
   "execution_count": null,
   "id": "3e517d9a",
   "metadata": {},
   "outputs": [],
   "source": []
  }
 ],
 "metadata": {
  "kernelspec": {
   "display_name": "Python 3",
   "language": "python",
   "name": "python3"
  },
  "language_info": {
   "codemirror_mode": {
    "name": "ipython",
    "version": 3
   },
   "file_extension": ".py",
   "mimetype": "text/x-python",
   "name": "python",
   "nbconvert_exporter": "python",
   "pygments_lexer": "ipython3",
   "version": "3.12.2"
  }
 },
 "nbformat": 4,
 "nbformat_minor": 5
}
